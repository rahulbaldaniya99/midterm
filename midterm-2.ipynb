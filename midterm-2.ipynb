{
 "cells": [
  {
   "cell_type": "code",
   "execution_count": 15,
   "id": "f0b6c604-e955-44db-b3f6-21cfbd9082f1",
   "metadata": {
    "tags": []
   },
   "outputs": [
    {
     "name": "stdout",
     "output_type": "stream",
     "text": [
      "4.242640687119285\n",
      "1.0\n"
     ]
    }
   ],
   "source": [
    "# Question 21\n",
    "\n",
    "class Point:\n",
    "    def __init__(self, x=0, y=0):\n",
    "        self.x, self.y = x, y\n",
    "\n",
    "class Segment:\n",
    "    def __init__(self, p1, p2):\n",
    "        self.p1, self.p2 = p1, p2\n",
    "\n",
    "    def Length(self):\n",
    "        x1, y1 = self.p1.x, self.p1.y\n",
    "        x2, y2 = self.p2.x, self.p2.y\n",
    "        return ((x2 - x1) ** 2 + (y2 - y1) ** 2) ** 0.5\n",
    "\n",
    "    def Slope(self):\n",
    "        x1, y1 = self.p1.x, self.p1.y\n",
    "        x2, y2 = self.p2.x, self.p2.y\n",
    "        return None if x2 - x1 == 0 else (y2 - y1) / (x2 - x1)\n",
    "\n",
    "\n",
    "p1, p2 = Point(3, 4), Point(6, 7)\n",
    "s = Segment(p1, p2)\n",
    "\n",
    "print(s.Length())  \n",
    "print(s.Slope())  "
   ]
  },
  {
   "cell_type": "code",
   "execution_count": 1,
   "id": "40a2d566-2c45-41e4-9c5d-7f2ffe12e4b8",
   "metadata": {
    "tags": []
   },
   "outputs": [],
   "source": [
    "# Question 22\n",
    "\n",
    "#import libraries \n",
    "\n",
    "import pandas as pd\n",
    "import sqlite3"
   ]
  },
  {
   "cell_type": "code",
   "execution_count": 2,
   "id": "f5f1076c-d509-4260-808b-605385d0f8b9",
   "metadata": {
    "tags": []
   },
   "outputs": [
    {
     "name": "stdout",
     "output_type": "stream",
     "text": [
      "Requirement already satisfied: ipython-sql in ./anaconda3/lib/python3.11/site-packages (0.5.0)\n",
      "Requirement already satisfied: prettytable in ./anaconda3/lib/python3.11/site-packages (from ipython-sql) (3.9.0)\n",
      "Requirement already satisfied: ipython in ./anaconda3/lib/python3.11/site-packages (from ipython-sql) (8.12.0)\n",
      "Requirement already satisfied: sqlalchemy>=2.0 in ./anaconda3/lib/python3.11/site-packages (from ipython-sql) (2.0.22)\n",
      "Requirement already satisfied: sqlparse in ./anaconda3/lib/python3.11/site-packages (from ipython-sql) (0.4.4)\n",
      "Requirement already satisfied: six in ./anaconda3/lib/python3.11/site-packages (from ipython-sql) (1.16.0)\n",
      "Requirement already satisfied: ipython-genutils in ./anaconda3/lib/python3.11/site-packages (from ipython-sql) (0.2.0)\n",
      "Requirement already satisfied: typing-extensions>=4.2.0 in ./anaconda3/lib/python3.11/site-packages (from sqlalchemy>=2.0->ipython-sql) (4.7.1)\n",
      "Requirement already satisfied: backcall in ./anaconda3/lib/python3.11/site-packages (from ipython->ipython-sql) (0.2.0)\n",
      "Requirement already satisfied: decorator in ./anaconda3/lib/python3.11/site-packages (from ipython->ipython-sql) (5.1.1)\n",
      "Requirement already satisfied: jedi>=0.16 in ./anaconda3/lib/python3.11/site-packages (from ipython->ipython-sql) (0.18.1)\n",
      "Requirement already satisfied: matplotlib-inline in ./anaconda3/lib/python3.11/site-packages (from ipython->ipython-sql) (0.1.6)\n",
      "Requirement already satisfied: pickleshare in ./anaconda3/lib/python3.11/site-packages (from ipython->ipython-sql) (0.7.5)\n",
      "Requirement already satisfied: prompt-toolkit!=3.0.37,<3.1.0,>=3.0.30 in ./anaconda3/lib/python3.11/site-packages (from ipython->ipython-sql) (3.0.36)\n",
      "Requirement already satisfied: pygments>=2.4.0 in ./anaconda3/lib/python3.11/site-packages (from ipython->ipython-sql) (2.15.1)\n",
      "Requirement already satisfied: stack-data in ./anaconda3/lib/python3.11/site-packages (from ipython->ipython-sql) (0.2.0)\n",
      "Requirement already satisfied: traitlets>=5 in ./anaconda3/lib/python3.11/site-packages (from ipython->ipython-sql) (5.7.1)\n",
      "Requirement already satisfied: pexpect>4.3 in ./anaconda3/lib/python3.11/site-packages (from ipython->ipython-sql) (4.8.0)\n",
      "Requirement already satisfied: appnope in ./anaconda3/lib/python3.11/site-packages (from ipython->ipython-sql) (0.1.2)\n",
      "Requirement already satisfied: wcwidth in ./anaconda3/lib/python3.11/site-packages (from prettytable->ipython-sql) (0.2.5)\n",
      "Requirement already satisfied: parso<0.9.0,>=0.8.0 in ./anaconda3/lib/python3.11/site-packages (from jedi>=0.16->ipython->ipython-sql) (0.8.3)\n",
      "Requirement already satisfied: ptyprocess>=0.5 in ./anaconda3/lib/python3.11/site-packages (from pexpect>4.3->ipython->ipython-sql) (0.7.0)\n",
      "Requirement already satisfied: executing in ./anaconda3/lib/python3.11/site-packages (from stack-data->ipython->ipython-sql) (0.8.3)\n",
      "Requirement already satisfied: asttokens in ./anaconda3/lib/python3.11/site-packages (from stack-data->ipython->ipython-sql) (2.0.5)\n",
      "Requirement already satisfied: pure-eval in ./anaconda3/lib/python3.11/site-packages (from stack-data->ipython->ipython-sql) (0.2.2)\n"
     ]
    }
   ],
   "source": [
    "#install the ipython-sql library \n",
    "!pip install ipython-sql"
   ]
  },
  {
   "cell_type": "code",
   "execution_count": 3,
   "id": "057cfdf2-7817-4b1d-a966-ddd993c143e4",
   "metadata": {
    "tags": []
   },
   "outputs": [
    {
     "data": {
      "text/html": [
       "<div>\n",
       "<style scoped>\n",
       "    .dataframe tbody tr th:only-of-type {\n",
       "        vertical-align: middle;\n",
       "    }\n",
       "\n",
       "    .dataframe tbody tr th {\n",
       "        vertical-align: top;\n",
       "    }\n",
       "\n",
       "    .dataframe thead th {\n",
       "        text-align: right;\n",
       "    }\n",
       "</style>\n",
       "<table border=\"1\" class=\"dataframe\">\n",
       "  <thead>\n",
       "    <tr style=\"text-align: right;\">\n",
       "      <th></th>\n",
       "      <th>id</th>\n",
       "      <th>recordDate</th>\n",
       "      <th>temperature</th>\n",
       "    </tr>\n",
       "  </thead>\n",
       "  <tbody>\n",
       "    <tr>\n",
       "      <th>0</th>\n",
       "      <td>1</td>\n",
       "      <td>2015-01-01</td>\n",
       "      <td>10</td>\n",
       "    </tr>\n",
       "    <tr>\n",
       "      <th>1</th>\n",
       "      <td>2</td>\n",
       "      <td>2015-01-02</td>\n",
       "      <td>25</td>\n",
       "    </tr>\n",
       "    <tr>\n",
       "      <th>2</th>\n",
       "      <td>3</td>\n",
       "      <td>2015-01-03</td>\n",
       "      <td>20</td>\n",
       "    </tr>\n",
       "    <tr>\n",
       "      <th>3</th>\n",
       "      <td>4</td>\n",
       "      <td>2015-01-04</td>\n",
       "      <td>30</td>\n",
       "    </tr>\n",
       "  </tbody>\n",
       "</table>\n",
       "</div>"
      ],
      "text/plain": [
       "  id  recordDate temperature\n",
       "0  1  2015-01-01          10\n",
       "1  2  2015-01-02          25\n",
       "2  3  2015-01-03          20\n",
       "3  4  2015-01-04          30"
      ]
     },
     "execution_count": 3,
     "metadata": {},
     "output_type": "execute_result"
    }
   ],
   "source": [
    "#create a dataframe to import data for the tutorial\n",
    "\n",
    "df= pd.DataFrame({'id': ['1','2','3','4'], 'recordDate': ['2015-01-01','2015-01-02','2015-01-03','2015-01-04'], 'temperature': ['10','25','20','30'] })\n",
    "df"
   ]
  },
  {
   "cell_type": "code",
   "execution_count": 4,
   "id": "4ebb7788-479f-48e5-864b-b7d8f5624f20",
   "metadata": {
    "tags": []
   },
   "outputs": [],
   "source": [
    "#we will sqlite3 library & create a connection \n",
    "\n",
    "cnn = sqlite3.connect('juyter_sql_tutorial.db')"
   ]
  },
  {
   "cell_type": "code",
   "execution_count": 10,
   "id": "27cf3305-a9a0-4177-8e4d-9b24555efbdf",
   "metadata": {
    "tags": []
   },
   "outputs": [
    {
     "data": {
      "text/plain": [
       "4"
      ]
     },
     "execution_count": 10,
     "metadata": {},
     "output_type": "execute_result"
    }
   ],
   "source": [
    "df.to_sql('u', cnn)"
   ]
  },
  {
   "cell_type": "code",
   "execution_count": 6,
   "id": "5d576f5c-1e72-4553-b2cd-331f005262f8",
   "metadata": {
    "tags": []
   },
   "outputs": [],
   "source": [
    "#Load the sql module to ipython\n",
    "%load_ext sql"
   ]
  },
  {
   "cell_type": "code",
   "execution_count": 7,
   "id": "372cdd12-0436-42db-9d5a-614908c8c547",
   "metadata": {
    "tags": []
   },
   "outputs": [],
   "source": [
    "%sql sqlite:///jupyter_sql_tutorial.db"
   ]
  },
  {
   "cell_type": "code",
   "execution_count": 16,
   "id": "274e23e0-98f7-4e1c-a700-49f9d06b9954",
   "metadata": {
    "tags": []
   },
   "outputs": [
    {
     "name": "stdout",
     "output_type": "stream",
     "text": [
      " * sqlite:///jupyter_sql_tutorial.db\n",
      "(sqlite3.OperationalError) unrecognized token: \"#\"\n",
      "[SQL: SELECT\n",
      "    w1.id    # First tempertaure recorded\n",
      "FROM\n",
      "    Weather w1\n",
      "WHERE\n",
      "    w1.temperature > (\n",
      "        SELECT w2.temperature\n",
      "        FROM Weather w2\n",
      "        WHERE w2.recordDate = DATE_SUB(w1.recordDate, INTERVAL 1 DAY)\n",
      "    );]\n",
      "(Background on this error at: https://sqlalche.me/e/20/e3q8)\n"
     ]
    }
   ],
   "source": [
    "%%sql\n",
    "\n",
    "SELECT\n",
    "    w1.id    # First tempertaure recorded\n",
    "FROM\n",
    "    Weather w1\n",
    "WHERE\n",
    "    w1.temperature > (\n",
    "        SELECT w2.temperature\n",
    "        FROM Weather w2\n",
    "        WHERE w2.recordDate = DATE_SUB(w1.recordDate, INTERVAL 1 DAY)\n",
    "    );\n"
   ]
  },
  {
   "cell_type": "code",
   "execution_count": 14,
   "id": "4ff1a2b4-6d89-4a0b-a132-6f1b819f20d1",
   "metadata": {
    "tags": []
   },
   "outputs": [
    {
     "name": "stdout",
     "output_type": "stream",
     "text": [
      "*\n",
      "**\n",
      " *\n"
     ]
    }
   ],
   "source": [
    "# Question 23\n",
    "\n",
    "def tough(indent, num):\n",
    "    if(num > 0):\n",
    "        f(indent, num//2);               # print previous pattern\n",
    "        print(\" \"*indent + \"*\"*num);     # print middle row of *'s\n",
    "        f(indent + 1, num//2);           # print previous pattern indented\n",
    "        \n",
    "        \n",
    "tough(0,2)"
   ]
  },
  {
   "cell_type": "code",
   "execution_count": null,
   "id": "14a2d46f-f0d5-49b1-94b6-47f727757500",
   "metadata": {},
   "outputs": [],
   "source": []
  }
 ],
 "metadata": {
  "kernelspec": {
   "display_name": "Python 3 (ipykernel)",
   "language": "python",
   "name": "python3"
  },
  "language_info": {
   "codemirror_mode": {
    "name": "ipython",
    "version": 3
   },
   "file_extension": ".py",
   "mimetype": "text/x-python",
   "name": "python",
   "nbconvert_exporter": "python",
   "pygments_lexer": "ipython3",
   "version": "3.11.4"
  }
 },
 "nbformat": 4,
 "nbformat_minor": 5
}
